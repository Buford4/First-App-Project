{
 "cells": [
  {
   "cell_type": "code",
   "execution_count": 1,
   "metadata": {},
   "outputs": [],
   "source": [
    "# Import dependencies\n",
    "import requests\n",
    "import json\n",
    "import pandas as pd\n",
    "from dotenv import load_dotenv \n",
    "import os\n",
    "import time"
   ]
  },
  {
   "cell_type": "code",
   "execution_count": 2,
   "metadata": {},
   "outputs": [
    {
     "data": {
      "text/plain": [
       "'1b5zds6gWGokXaLgBHuj9hd6jSCI66lE'"
      ]
     },
     "execution_count": 2,
     "metadata": {},
     "output_type": "execute_result"
    }
   ],
   "source": [
    "load_dotenv()\n",
    "api_key = os.getenv(\"NYT_API_KEY\")\n",
    "api_key"
   ]
  },
  {
   "cell_type": "code",
   "execution_count": 3,
   "metadata": {},
   "outputs": [
    {
     "name": "stdout",
     "output_type": "stream",
     "text": [
      "David Shariatmadari’s book delves into issues like grammar snobbery, quirks of human and animal speech, and the transformation of even the simplest words. \n",
      "To read more click here https://www.nytimes.com/2020/01/01/books/review-dont-believe-word-david-shariatmadari.html\n",
      "Mr. Durst, who was profiled in the HBO series, had long denied mailing a note alerting the police to a dead body. Last week, his lawyers acknowledged that he did. \n",
      "To read more click here https://www.nytimes.com/2019/12/31/us/robert-durst-jinx-murder.html\n",
      "Each day, our editors collect the most interesting, striking or delightful facts to appear in that day’s stories throughout the paper. Here are 79 of our very favorites. \n",
      "To read more click here https://www.nytimes.com/2019/12/31/reader-center/2019-best-facts.html\n",
      "The 52 Places Traveler visits the definition of paradise in French Polynesia — and then makes his way to his final stop: Alberta in the dead of winter. \n",
      "To read more click here https://www.nytimes.com/2019/12/31/travel/52-places-to-go-tahiti-calgary.html\n",
      "More than 10,000 people signed a petition demanding the New York City officer’s ouster after he broke into a black woman’s home. \n",
      "To read more click here https://www.nytimes.com/2019/12/31/nyregion/nypd-officer-jail-nashville-home.html\n",
      "Greta Gerwig onstage, Jack London on film, Broadway revivals and an opera celebrating the 19th Amendment are just a few of their choices. \n",
      "To read more click here https://www.nytimes.com/2019/12/31/arts/critics-look-forward-2020.html\n",
      "It's a first for surveillance at the event, joining other security measures like bomb-sniffing dogs and metal detectors. \n",
      "To read more click here https://www.nytimes.com/2019/12/30/nyregion/new-years-eve-nyc.html\n",
      "In Svalbard, above the Arctic Circle, you can’t be born and you can’t be buried, but you can find renewal in the dark of winter. \n",
      "To read more click here https://www.nytimes.com/2019/12/30/travel/svalbard-norway-northern-lights.html\n",
      "After the holidays, you might need a little solitude. Here’s how to get it. \n",
      "To read more click here https://www.nytimes.com/2019/12/30/realestate/shopping-for-a-chaise-longue.html\n",
      "This year, we delivered 125 dispatches from 44 countries and six continents, each one offering an immersive experience of one of the world’s most noteworthy places. Here are the highlights. \n",
      "To read more click here https://www.nytimes.com/2019/12/30/world/nyt-best-dispatches.html\n"
     ]
    }
   ],
   "source": [
    "url = \"https://api.nytimes.com/svc/search/v2/articlesearch.json?\"\n",
    "\n",
    "break_loop = True\n",
    "while break_loop:\n",
    "\n",
    "    filter_query = input(\"What would you like to filter for? \")\n",
    "\n",
    "    sort = \"newest\"\n",
    "\n",
    "    field_list = \"headline,snippet,web_url\"\n",
    "\n",
    "    begin_date = input(\"What date in'YYYYMMDD' format would you like to start the search? \")\n",
    "    end_date = input(\"What date in 'YYYYMMDD' format would you like to end the search? \")\n",
    "\n",
    "    query_url = f\"{url}api-key={api_key}&begin_date={begin_date}&end_date={end_date}&fq={filter_query}&sort={sort}\"\n",
    "    try:\n",
    "        articles = requests.get(query_url).json()\n",
    "        articles_list = articles[\"response\"][\"docs\"]\n",
    "        if len(articles['response']['docs']) == 0:\n",
    "            print(f\"There were no articles on {filter_query}\")\n",
    "        else:\n",
    "            for articles in articles_list:\n",
    "                try:\n",
    "                    web_url = articles['web_url']\n",
    "                    print(f\"{articles['snippet']} \\nTo read more click here {web_url}\")\n",
    "                    break_loop = False\n",
    "                except Exception as e:\n",
    "                    print(e)\n",
    "    except KeyError:\n",
    "            print(f\"The date {begin_date} or {end_date} was not a valid date, please use YYYYMMDD format\")"
   ]
  }
 ],
 "metadata": {
  "kernelspec": {
   "display_name": "dev",
   "language": "python",
   "name": "python3"
  },
  "language_info": {
   "codemirror_mode": {
    "name": "ipython",
    "version": 3
   },
   "file_extension": ".py",
   "mimetype": "text/x-python",
   "name": "python",
   "nbconvert_exporter": "python",
   "pygments_lexer": "ipython3",
   "version": "3.10.13"
  }
 },
 "nbformat": 4,
 "nbformat_minor": 2
}
